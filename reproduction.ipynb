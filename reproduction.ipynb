{
 "cells": [
  {
   "cell_type": "code",
   "id": "initial_id",
   "metadata": {
    "collapsed": true,
    "ExecuteTime": {
     "end_time": "2025-05-01T10:55:23.271841Z",
     "start_time": "2025-05-01T10:55:23.265038Z"
    }
   },
   "source": [
    "import pandas as pd\n",
    "import pyaging as pya\n",
    "\n",
    "pya.data.download_example_data('GSE139307')"
   ],
   "outputs": [
    {
     "name": "stdout",
     "output_type": "stream",
     "text": [
      "|-----> 🏗️ Starting download_example_data function\n",
      "|-----------> Data found in pyaging_data\\GSE139307.pkl\n",
      "|-----> 🎉 Done! [0.0013s]\n"
     ]
    }
   ],
   "execution_count": 2
  },
  {
   "metadata": {
    "ExecuteTime": {
     "end_time": "2025-05-01T10:55:33.568883Z",
     "start_time": "2025-05-01T10:55:33.203556Z"
    }
   },
   "cell_type": "code",
   "source": [
    "df = pd.read_pickle('pyaging_data/GSE139307.pkl')\n",
    "\n",
    "df.head()"
   ],
   "id": "7cc85cb0ad730767",
   "outputs": [
    {
     "data": {
      "text/plain": [
       "              dataset tissue_type   age gender  cg00000029  cg00000108  \\\n",
       "GSM4137709  GSE139307       sperm  84.0      M    0.084811    0.920696   \n",
       "GSM4137710  GSE139307       sperm  69.0      M    0.099626    0.919073   \n",
       "GSM4137711  GSE139307       sperm  69.0      M    0.117228    0.920276   \n",
       "GSM4137712  GSE139307       sperm  69.0      M    0.077096    0.910204   \n",
       "GSM4137713  GSE139307       sperm  67.0      M    0.063524    0.911608   \n",
       "\n",
       "            cg00000109  cg00000165  cg00000236  cg00000289  ...  \\\n",
       "GSM4137709    0.856851    0.084567    0.838699    0.247273  ...   \n",
       "GSM4137710    0.890024    0.115541    0.852584    0.198103  ...   \n",
       "GSM4137711    0.894317    0.117127    0.839258    0.213410  ...   \n",
       "GSM4137712    0.908400    0.073885    0.861615    0.163276  ...   \n",
       "GSM4137713    0.884643    0.079877    0.864654    0.176169  ...   \n",
       "\n",
       "            ch.X.93511680F  ch.X.938089F  ch.X.94051109R  ch.X.94260649R  \\\n",
       "GSM4137709        0.061751      0.045942        0.037631        0.056455   \n",
       "GSM4137710        0.075077      0.041849        0.032573        0.089790   \n",
       "GSM4137711        0.068679      0.049515        0.058097        0.079919   \n",
       "GSM4137712        0.070091      0.033289        0.038836        0.108213   \n",
       "GSM4137713        0.082368      0.038411        0.048787        0.088631   \n",
       "\n",
       "            ch.X.967194F  ch.X.97129969R  ch.X.97133160R  ch.X.97651759F  \\\n",
       "GSM4137709      0.249872        0.049022        0.085691        0.037435   \n",
       "GSM4137710      0.250245        0.079095        0.079756        0.046229   \n",
       "GSM4137711      0.299758        0.079305        0.089815        0.065364   \n",
       "GSM4137712      0.295428        0.050731        0.099943        0.047597   \n",
       "GSM4137713      0.316694        0.041873        0.079303        0.048823   \n",
       "\n",
       "            ch.X.97737721F  ch.X.98007042R  \n",
       "GSM4137709        0.077820        0.106234  \n",
       "GSM4137710        0.091256        0.120241  \n",
       "GSM4137711        0.086864        0.156005  \n",
       "GSM4137712        0.078480        0.107480  \n",
       "GSM4137713        0.089010        0.117903  \n",
       "\n",
       "[5 rows x 485516 columns]"
      ],
      "text/html": [
       "<div>\n",
       "<style scoped>\n",
       "    .dataframe tbody tr th:only-of-type {\n",
       "        vertical-align: middle;\n",
       "    }\n",
       "\n",
       "    .dataframe tbody tr th {\n",
       "        vertical-align: top;\n",
       "    }\n",
       "\n",
       "    .dataframe thead th {\n",
       "        text-align: right;\n",
       "    }\n",
       "</style>\n",
       "<table border=\"1\" class=\"dataframe\">\n",
       "  <thead>\n",
       "    <tr style=\"text-align: right;\">\n",
       "      <th></th>\n",
       "      <th>dataset</th>\n",
       "      <th>tissue_type</th>\n",
       "      <th>age</th>\n",
       "      <th>gender</th>\n",
       "      <th>cg00000029</th>\n",
       "      <th>cg00000108</th>\n",
       "      <th>cg00000109</th>\n",
       "      <th>cg00000165</th>\n",
       "      <th>cg00000236</th>\n",
       "      <th>cg00000289</th>\n",
       "      <th>...</th>\n",
       "      <th>ch.X.93511680F</th>\n",
       "      <th>ch.X.938089F</th>\n",
       "      <th>ch.X.94051109R</th>\n",
       "      <th>ch.X.94260649R</th>\n",
       "      <th>ch.X.967194F</th>\n",
       "      <th>ch.X.97129969R</th>\n",
       "      <th>ch.X.97133160R</th>\n",
       "      <th>ch.X.97651759F</th>\n",
       "      <th>ch.X.97737721F</th>\n",
       "      <th>ch.X.98007042R</th>\n",
       "    </tr>\n",
       "  </thead>\n",
       "  <tbody>\n",
       "    <tr>\n",
       "      <th>GSM4137709</th>\n",
       "      <td>GSE139307</td>\n",
       "      <td>sperm</td>\n",
       "      <td>84.0</td>\n",
       "      <td>M</td>\n",
       "      <td>0.084811</td>\n",
       "      <td>0.920696</td>\n",
       "      <td>0.856851</td>\n",
       "      <td>0.084567</td>\n",
       "      <td>0.838699</td>\n",
       "      <td>0.247273</td>\n",
       "      <td>...</td>\n",
       "      <td>0.061751</td>\n",
       "      <td>0.045942</td>\n",
       "      <td>0.037631</td>\n",
       "      <td>0.056455</td>\n",
       "      <td>0.249872</td>\n",
       "      <td>0.049022</td>\n",
       "      <td>0.085691</td>\n",
       "      <td>0.037435</td>\n",
       "      <td>0.077820</td>\n",
       "      <td>0.106234</td>\n",
       "    </tr>\n",
       "    <tr>\n",
       "      <th>GSM4137710</th>\n",
       "      <td>GSE139307</td>\n",
       "      <td>sperm</td>\n",
       "      <td>69.0</td>\n",
       "      <td>M</td>\n",
       "      <td>0.099626</td>\n",
       "      <td>0.919073</td>\n",
       "      <td>0.890024</td>\n",
       "      <td>0.115541</td>\n",
       "      <td>0.852584</td>\n",
       "      <td>0.198103</td>\n",
       "      <td>...</td>\n",
       "      <td>0.075077</td>\n",
       "      <td>0.041849</td>\n",
       "      <td>0.032573</td>\n",
       "      <td>0.089790</td>\n",
       "      <td>0.250245</td>\n",
       "      <td>0.079095</td>\n",
       "      <td>0.079756</td>\n",
       "      <td>0.046229</td>\n",
       "      <td>0.091256</td>\n",
       "      <td>0.120241</td>\n",
       "    </tr>\n",
       "    <tr>\n",
       "      <th>GSM4137711</th>\n",
       "      <td>GSE139307</td>\n",
       "      <td>sperm</td>\n",
       "      <td>69.0</td>\n",
       "      <td>M</td>\n",
       "      <td>0.117228</td>\n",
       "      <td>0.920276</td>\n",
       "      <td>0.894317</td>\n",
       "      <td>0.117127</td>\n",
       "      <td>0.839258</td>\n",
       "      <td>0.213410</td>\n",
       "      <td>...</td>\n",
       "      <td>0.068679</td>\n",
       "      <td>0.049515</td>\n",
       "      <td>0.058097</td>\n",
       "      <td>0.079919</td>\n",
       "      <td>0.299758</td>\n",
       "      <td>0.079305</td>\n",
       "      <td>0.089815</td>\n",
       "      <td>0.065364</td>\n",
       "      <td>0.086864</td>\n",
       "      <td>0.156005</td>\n",
       "    </tr>\n",
       "    <tr>\n",
       "      <th>GSM4137712</th>\n",
       "      <td>GSE139307</td>\n",
       "      <td>sperm</td>\n",
       "      <td>69.0</td>\n",
       "      <td>M</td>\n",
       "      <td>0.077096</td>\n",
       "      <td>0.910204</td>\n",
       "      <td>0.908400</td>\n",
       "      <td>0.073885</td>\n",
       "      <td>0.861615</td>\n",
       "      <td>0.163276</td>\n",
       "      <td>...</td>\n",
       "      <td>0.070091</td>\n",
       "      <td>0.033289</td>\n",
       "      <td>0.038836</td>\n",
       "      <td>0.108213</td>\n",
       "      <td>0.295428</td>\n",
       "      <td>0.050731</td>\n",
       "      <td>0.099943</td>\n",
       "      <td>0.047597</td>\n",
       "      <td>0.078480</td>\n",
       "      <td>0.107480</td>\n",
       "    </tr>\n",
       "    <tr>\n",
       "      <th>GSM4137713</th>\n",
       "      <td>GSE139307</td>\n",
       "      <td>sperm</td>\n",
       "      <td>67.0</td>\n",
       "      <td>M</td>\n",
       "      <td>0.063524</td>\n",
       "      <td>0.911608</td>\n",
       "      <td>0.884643</td>\n",
       "      <td>0.079877</td>\n",
       "      <td>0.864654</td>\n",
       "      <td>0.176169</td>\n",
       "      <td>...</td>\n",
       "      <td>0.082368</td>\n",
       "      <td>0.038411</td>\n",
       "      <td>0.048787</td>\n",
       "      <td>0.088631</td>\n",
       "      <td>0.316694</td>\n",
       "      <td>0.041873</td>\n",
       "      <td>0.079303</td>\n",
       "      <td>0.048823</td>\n",
       "      <td>0.089010</td>\n",
       "      <td>0.117903</td>\n",
       "    </tr>\n",
       "  </tbody>\n",
       "</table>\n",
       "<p>5 rows × 485516 columns</p>\n",
       "</div>"
      ]
     },
     "execution_count": 3,
     "metadata": {},
     "output_type": "execute_result"
    }
   ],
   "execution_count": 3
  },
  {
   "metadata": {
    "ExecuteTime": {
     "end_time": "2025-05-01T10:57:12.508882Z",
     "start_time": "2025-05-01T10:56:56.922962Z"
    }
   },
   "cell_type": "code",
   "source": "adata = pya.pp.df_to_adata(df, metadata_cols=['gender', 'tissue_type', 'dataset'], imputer_strategy='knn')",
   "id": "6da225cc46e36af0",
   "outputs": [
    {
     "name": "stdout",
     "output_type": "stream",
     "text": [
      "|-----> 🏗️ Starting df_to_adata function\n",
      "|-----> ⚙️ Create anndata object started\n",
      "|-----------? Dropping 1 columns with only NAs: ['cg01550828'], etc.\n",
      "|-----> ⚠️ Create anndata object finished [1.0255s]\n",
      "|-----> ⚙️ Add metadata to anndata started\n",
      "|-----------> Adding provided metadata to adata.obs\n",
      "|-----> ✅ Add metadata to anndata finished [0.2061s]\n",
      "|-----> ⚙️ Log data statistics started\n",
      "|-----------> There are 37 observations\n",
      "|-----------> There are 485512 features\n",
      "|-----------> Total missing values: 489\n",
      "|-----------> Percentage of missing values: 0.00%\n",
      "|-----> ✅ Log data statistics finished [0.5794s]\n",
      "|-----> ⚙️ Impute missing values started\n",
      "|-----------> Imputing missing values using knn strategy\n",
      "|-----> ✅ Impute missing values finished [12.7602s]\n",
      "|-----> ⚙️ Add imputer strategy to adata.uns started\n",
      "|-----> ✅ Add imputer strategy to adata.uns finished [0.0817s]\n",
      "|-----> 🎉 Done! [15.4667s]\n"
     ]
    }
   ],
   "execution_count": 4
  },
  {
   "metadata": {
    "ExecuteTime": {
     "end_time": "2025-05-01T10:57:15.371894Z",
     "start_time": "2025-05-01T10:57:15.365375Z"
    }
   },
   "cell_type": "code",
   "source": "adata",
   "id": "c2dfbca812503f83",
   "outputs": [
    {
     "data": {
      "text/plain": [
       "AnnData object with n_obs × n_vars = 37 × 485512\n",
       "    obs: 'gender', 'tissue_type', 'dataset'\n",
       "    var: 'percent_na'\n",
       "    uns: 'imputer_strategy'\n",
       "    layers: 'X_original', 'X_imputed'"
      ]
     },
     "execution_count": 5,
     "metadata": {},
     "output_type": "execute_result"
    }
   ],
   "execution_count": 5
  },
  {
   "metadata": {
    "ExecuteTime": {
     "end_time": "2025-05-01T10:57:20.236071Z",
     "start_time": "2025-05-01T10:57:17.056357Z"
    }
   },
   "cell_type": "code",
   "source": "pya.pred.predict_age(adata, ['Horvath2013', 'AltumAge'])",
   "id": "2d149bd1f38e0c4b",
   "outputs": [
    {
     "name": "stdout",
     "output_type": "stream",
     "text": [
      "|-----> 🏗️ Starting predict_age function\n",
      "|-----> ⚙️ Set PyTorch device started\n",
      "|-----------> Using device: cpu\n",
      "|-----> ✅ Set PyTorch device finished [0.0010s]\n",
      "|-----> 🕒 Processing clock: horvath2013\n",
      "|-----------> ⚙️ Load clock started\n",
      "|-----------------> Downloading data to pyaging_data\\horvath2013.pt\n",
      "|-----------------> in progress: 100.0000%\n",
      "|-----------> ✅ Load clock finished [0.3670s]\n",
      "|-----------> ⚙️ Check features in adata started\n",
      "|-----------------> All features are present in adata.var_names.\n",
      "|-----------> ✅ Check features in adata finished [0.2402s]\n",
      "|-----------> ⚙️ Predict ages with model started\n",
      "|-----------------> There is no preprocessing necessary\n",
      "|-----------------> The postprocessing method is anti_log_linear\n",
      "|-----------------> in progress: 100.0000%\n",
      "|-----------> ✅ Predict ages with model finished [0.0040s]\n",
      "|-----------> ⚙️ Add predicted ages and clock metadata to adata started\n",
      "|-----------> ✅ Add predicted ages and clock metadata to adata finished [0.0020s]\n",
      "|-----> 🕒 Processing clock: altumage\n",
      "|-----------> ⚙️ Load clock started\n",
      "|-----------------> Downloading data to pyaging_data\\altumage.pt\n",
      "|-----------------> in progress: 100.0000%\n",
      "|-----------> ✅ Load clock finished [1.7204s]\n",
      "|-----------> ⚙️ Check features in adata started\n",
      "|-----------------> All features are present in adata.var_names.\n",
      "|-----------> ✅ Check features in adata finished [0.2189s]\n",
      "|-----------> ⚙️ Predict ages with model started\n",
      "|-----------------> The preprocessing method is scale\n",
      "|-----------------> There is no postprocessing necessary\n",
      "|-----------------> in progress: 100.0000%\n",
      "|-----------> ✅ Predict ages with model finished [0.0208s]\n",
      "|-----------> ⚙️ Add predicted ages and clock metadata to adata started\n",
      "|-----------> ✅ Add predicted ages and clock metadata to adata finished [0.0020s]\n",
      "|-----> 🎉 Done! [3.1700s]\n"
     ]
    }
   ],
   "execution_count": 6
  },
  {
   "metadata": {
    "ExecuteTime": {
     "end_time": "2025-05-01T10:57:22.698688Z",
     "start_time": "2025-05-01T10:57:22.688727Z"
    }
   },
   "cell_type": "code",
   "source": "adata.obs.head()",
   "id": "711acc97fb55c27e",
   "outputs": [
    {
     "data": {
      "text/plain": [
       "           gender tissue_type    dataset  horvath2013   altumage\n",
       "GSM4137709      M       sperm  GSE139307    33.624776  37.007213\n",
       "GSM4137710      M       sperm  GSE139307    28.829344  29.426899\n",
       "GSM4137711      M       sperm  GSE139307    28.316545  22.798928\n",
       "GSM4137712      M       sperm  GSE139307    24.850630  18.079173\n",
       "GSM4137713      M       sperm  GSE139307    25.942111  20.071985"
      ],
      "text/html": [
       "<div>\n",
       "<style scoped>\n",
       "    .dataframe tbody tr th:only-of-type {\n",
       "        vertical-align: middle;\n",
       "    }\n",
       "\n",
       "    .dataframe tbody tr th {\n",
       "        vertical-align: top;\n",
       "    }\n",
       "\n",
       "    .dataframe thead th {\n",
       "        text-align: right;\n",
       "    }\n",
       "</style>\n",
       "<table border=\"1\" class=\"dataframe\">\n",
       "  <thead>\n",
       "    <tr style=\"text-align: right;\">\n",
       "      <th></th>\n",
       "      <th>gender</th>\n",
       "      <th>tissue_type</th>\n",
       "      <th>dataset</th>\n",
       "      <th>horvath2013</th>\n",
       "      <th>altumage</th>\n",
       "    </tr>\n",
       "  </thead>\n",
       "  <tbody>\n",
       "    <tr>\n",
       "      <th>GSM4137709</th>\n",
       "      <td>M</td>\n",
       "      <td>sperm</td>\n",
       "      <td>GSE139307</td>\n",
       "      <td>33.624776</td>\n",
       "      <td>37.007213</td>\n",
       "    </tr>\n",
       "    <tr>\n",
       "      <th>GSM4137710</th>\n",
       "      <td>M</td>\n",
       "      <td>sperm</td>\n",
       "      <td>GSE139307</td>\n",
       "      <td>28.829344</td>\n",
       "      <td>29.426899</td>\n",
       "    </tr>\n",
       "    <tr>\n",
       "      <th>GSM4137711</th>\n",
       "      <td>M</td>\n",
       "      <td>sperm</td>\n",
       "      <td>GSE139307</td>\n",
       "      <td>28.316545</td>\n",
       "      <td>22.798928</td>\n",
       "    </tr>\n",
       "    <tr>\n",
       "      <th>GSM4137712</th>\n",
       "      <td>M</td>\n",
       "      <td>sperm</td>\n",
       "      <td>GSE139307</td>\n",
       "      <td>24.850630</td>\n",
       "      <td>18.079173</td>\n",
       "    </tr>\n",
       "    <tr>\n",
       "      <th>GSM4137713</th>\n",
       "      <td>M</td>\n",
       "      <td>sperm</td>\n",
       "      <td>GSE139307</td>\n",
       "      <td>25.942111</td>\n",
       "      <td>20.071985</td>\n",
       "    </tr>\n",
       "  </tbody>\n",
       "</table>\n",
       "</div>"
      ]
     },
     "execution_count": 7,
     "metadata": {},
     "output_type": "execute_result"
    }
   ],
   "execution_count": 7
  },
  {
   "metadata": {
    "ExecuteTime": {
     "end_time": "2025-05-01T10:57:25.155105Z",
     "start_time": "2025-05-01T10:57:25.145108Z"
    }
   },
   "cell_type": "code",
   "source": "adata.obs.iloc[:, 3:].corr('pearson')",
   "id": "11c860c0b2bf5860",
   "outputs": [
    {
     "data": {
      "text/plain": [
       "             horvath2013  altumage\n",
       "horvath2013     1.000000  0.676242\n",
       "altumage        0.676242  1.000000"
      ],
      "text/html": [
       "<div>\n",
       "<style scoped>\n",
       "    .dataframe tbody tr th:only-of-type {\n",
       "        vertical-align: middle;\n",
       "    }\n",
       "\n",
       "    .dataframe tbody tr th {\n",
       "        vertical-align: top;\n",
       "    }\n",
       "\n",
       "    .dataframe thead th {\n",
       "        text-align: right;\n",
       "    }\n",
       "</style>\n",
       "<table border=\"1\" class=\"dataframe\">\n",
       "  <thead>\n",
       "    <tr style=\"text-align: right;\">\n",
       "      <th></th>\n",
       "      <th>horvath2013</th>\n",
       "      <th>altumage</th>\n",
       "    </tr>\n",
       "  </thead>\n",
       "  <tbody>\n",
       "    <tr>\n",
       "      <th>horvath2013</th>\n",
       "      <td>1.000000</td>\n",
       "      <td>0.676242</td>\n",
       "    </tr>\n",
       "    <tr>\n",
       "      <th>altumage</th>\n",
       "      <td>0.676242</td>\n",
       "      <td>1.000000</td>\n",
       "    </tr>\n",
       "  </tbody>\n",
       "</table>\n",
       "</div>"
      ]
     },
     "execution_count": 8,
     "metadata": {},
     "output_type": "execute_result"
    }
   ],
   "execution_count": 8
  },
  {
   "metadata": {
    "ExecuteTime": {
     "end_time": "2025-05-01T10:57:27.276065Z",
     "start_time": "2025-05-01T10:57:27.270781Z"
    }
   },
   "cell_type": "code",
   "source": "adata",
   "id": "eb8185b5369bc8e1",
   "outputs": [
    {
     "data": {
      "text/plain": [
       "AnnData object with n_obs × n_vars = 37 × 485512\n",
       "    obs: 'gender', 'tissue_type', 'dataset', 'horvath2013', 'altumage'\n",
       "    var: 'percent_na'\n",
       "    uns: 'imputer_strategy', 'horvath2013_percent_na', 'horvath2013_missing_features', 'horvath2013_metadata', 'altumage_percent_na', 'altumage_missing_features', 'altumage_metadata'\n",
       "    layers: 'X_original', 'X_imputed'"
      ]
     },
     "execution_count": 9,
     "metadata": {},
     "output_type": "execute_result"
    }
   ],
   "execution_count": 9
  },
  {
   "metadata": {
    "ExecuteTime": {
     "end_time": "2025-05-01T10:57:29.022584Z",
     "start_time": "2025-05-01T10:57:29.015660Z"
    }
   },
   "cell_type": "code",
   "source": "adata.uns['horvath2013_metadata']",
   "id": "24c5e62b11d038ca",
   "outputs": [
    {
     "data": {
      "text/plain": [
       "{'clock_name': 'horvath2013',\n",
       " 'data_type': 'methylation',\n",
       " 'species': 'Homo sapiens',\n",
       " 'year': 2013,\n",
       " 'approved_by_author': '⌛',\n",
       " 'citation': 'Horvath, Steve. \"DNA methylation age of human tissues and cell types.\" Genome biology 14.10 (2013): 1-20.',\n",
       " 'doi': 'https://doi.org/10.1186/gb-2013-14-10-r115',\n",
       " 'notes': None,\n",
       " 'research_only': None,\n",
       " 'version': None}"
      ]
     },
     "execution_count": 10,
     "metadata": {},
     "output_type": "execute_result"
    }
   ],
   "execution_count": 10
  },
  {
   "metadata": {
    "ExecuteTime": {
     "end_time": "2025-05-01T10:57:30.734282Z",
     "start_time": "2025-05-01T10:57:30.726643Z"
    }
   },
   "cell_type": "code",
   "source": "adata.uns['altumage_metadata']",
   "id": "2915af036e8f90e5",
   "outputs": [
    {
     "data": {
      "text/plain": [
       "{'clock_name': 'altumage',\n",
       " 'data_type': 'methylation',\n",
       " 'species': 'Homo sapiens',\n",
       " 'year': 2022,\n",
       " 'approved_by_author': '✅',\n",
       " 'citation': 'de Lima Camillo, Lucas Paulo, Louis R. Lapierre, and Ritambhara Singh. \"A pan-tissue DNA-methylation epigenetic clock based on deep learning.\" npj Aging 8.1 (2022): 4.',\n",
       " 'doi': 'https://doi.org/10.1038/s41514-022-00085-y',\n",
       " 'notes': None,\n",
       " 'research_only': None,\n",
       " 'version': None}"
      ]
     },
     "execution_count": 11,
     "metadata": {},
     "output_type": "execute_result"
    }
   ],
   "execution_count": 11
  }
 ],
 "metadata": {
  "kernelspec": {
   "display_name": "Python 3",
   "language": "python",
   "name": "python3"
  },
  "language_info": {
   "codemirror_mode": {
    "name": "ipython",
    "version": 2
   },
   "file_extension": ".py",
   "mimetype": "text/x-python",
   "name": "python",
   "nbconvert_exporter": "python",
   "pygments_lexer": "ipython2",
   "version": "2.7.6"
  }
 },
 "nbformat": 4,
 "nbformat_minor": 5
}
